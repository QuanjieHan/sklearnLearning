{
 "cells": [
  {
   "cell_type": "code",
   "execution_count": 2,
   "metadata": {},
   "outputs": [],
   "source": [
    "from sklearn import datasets\n",
    "boston=datasets.load_boston()\n",
    "#print(boston.DESCR)\n"
   ]
  },
  {
   "cell_type": "code",
   "execution_count": 3,
   "metadata": {},
   "outputs": [
    {
     "name": "stdout",
     "output_type": "stream",
     "text": [
      "The max target value is  50.0\n",
      "The min target value is  5.0\n",
      "The average target value is  22.532806324110677\n"
     ]
    }
   ],
   "source": [
    "from sklearn.model_selection import train_test_split\n",
    "import numpy as np\n",
    "X,y=boston.data,boston.target\n",
    "X_train,X_test,y_train,y_test=train_test_split(X,y,random_state=22,test_size=0.25)\n",
    "# Analyse the difference of target value\n",
    "print(\"The max target value is \", np.max(y))\n",
    "print(\"The min target value is \", np.min(y))\n",
    "print(\"The average target value is \", np.mean(y))\n",
    "\n"
   ]
  },
  {
   "cell_type": "code",
   "execution_count": 8,
   "metadata": {},
   "outputs": [
    {
     "name": "stdout",
     "output_type": "stream",
     "text": [
      "StandardScaler(copy=True, with_mean=True, with_std=True)\n"
     ]
    }
   ],
   "source": [
    "# Preprocessing\n",
    "from sklearn.preprocessing import StandardScaler\n",
    "ss_X=StandardScaler()\n",
    "print(ss_X)\n",
    "#ss_y=StandardScaler()\n",
    "#print(ss_y)\n",
    "X_train=ss_X.fit_transform(X_train)\n",
    "X_test=ss_X.transform(X_test)\n",
    "#y_train=ss_y.fit_transform(y_train)\n",
    "#y_test=ss_y.transform(y_test)"
   ]
  },
  {
   "cell_type": "code",
   "execution_count": 10,
   "metadata": {},
   "outputs": [
    {
     "name": "stdout",
     "output_type": "stream",
     "text": [
      "LinearRegression(copy_X=True, fit_intercept=True, n_jobs=1, normalize=False)\n",
      "0.7540880975154143\n",
      "SGDRegressor(alpha=0.0001, average=False, epsilon=0.1, eta0=0.01,\n",
      "       fit_intercept=True, l1_ratio=0.15, learning_rate='invscaling',\n",
      "       loss='squared_loss', max_iter=None, n_iter=None, penalty='l2',\n",
      "       power_t=0.25, random_state=None, shuffle=True, tol=None, verbose=0,\n",
      "       warm_start=False)\n",
      "0.7394499069327845\n"
     ]
    },
    {
     "name": "stderr",
     "output_type": "stream",
     "text": [
      "/Users/songweiwei/anaconda3/lib/python3.6/site-packages/sklearn/linear_model/stochastic_gradient.py:128: FutureWarning: max_iter and tol parameters have been added in <class 'sklearn.linear_model.stochastic_gradient.SGDRegressor'> in 0.19. If both are left unset, they default to max_iter=5 and tol=None. If tol is not None, max_iter defaults to max_iter=1000. From 0.21, default max_iter will be 1000, and default tol will be 1e-3.\n",
      "  \"and default tol will be 1e-3.\" % type(self), FutureWarning)\n"
     ]
    }
   ],
   "source": [
    "# Algorithm configuration \n",
    "from sklearn.linear_model import LinearRegression\n",
    "lr=LinearRegression()\n",
    "print(lr)\n",
    "lr.fit(X_train,y_train)\n",
    "lr_predict=lr.predict(X_test)\n",
    "print(lr.score(X_test,y_test))\n",
    "\n",
    "from sklearn.linear_model import SGDRegressor\n",
    "sgdr=SGDRegressor()\n",
    "print(sgdr)\n",
    "sgdr.fit(X_train,y_train)\n",
    "sgdr_predict=sgdr.predict(X_test)\n",
    "print(sgdr.score(X_test,y_test))"
   ]
  },
  {
   "cell_type": "code",
   "execution_count": 11,
   "metadata": {},
   "outputs": [
    {
     "name": "stdout",
     "output_type": "stream",
     "text": [
      "The value of R-Squared of Linear Regression is  0.7540880975154143\n",
      "The value of mean squared error of Linear Regression is  20.630254348291203\n",
      "The value of mean absolute error of Linear Regression is  3.419061739636584\n"
     ]
    }
   ],
   "source": [
    "# Evaluate the performance of the algorithms\n",
    "from sklearn.metrics import r2_score,mean_squared_error,mean_absolute_error\n",
    "print(\"The value of R-Squared of Linear Regression is \",r2_score(y_test,lr_predict))\n",
    "print(\"The value of mean squared error of Linear Regression is \", mean_squared_error(y_test,lr_predict))\n",
    "print(\"The value of mean absolute error of Linear Regression is \", mean_absolute_error(y_test,lr_predict))\n",
    "\n"
   ]
  },
  {
   "cell_type": "code",
   "execution_count": 9,
   "metadata": {},
   "outputs": [
    {
     "name": "stdout",
     "output_type": "stream",
     "text": [
      "The value of R_Squared of SGDRegressor is  0.7443533261475919\n",
      "The value of mean squared error of SGDRegressor is  21.44693222077941\n",
      "The value of mean absolute error of SGDRegressor is  3.3581340631885\n"
     ]
    }
   ],
   "source": [
    "print(\"The value of R_Squared of SGDRegressor is \", r2_score(y_test,sgdr_predict))\n",
    "print(\"The value of mean squared error of SGDRegressor is \", mean_squared_error(y_test,sgdr_predict))\n",
    "print(\"The value of mean absolute error of SGDRegressor is \", mean_absolute_error(y_test,sgdr_predict))"
   ]
  },
  {
   "cell_type": "code",
   "execution_count": 13,
   "metadata": {},
   "outputs": [
    {
     "name": "stdout",
     "output_type": "stream",
     "text": [
      "SVR(C=1.0, cache_size=200, coef0=0.0, degree=3, epsilon=0.1, gamma='auto',\n",
      "  kernel='rbf', max_iter=-1, shrinking=True, tol=0.001, verbose=False)\n"
     ]
    }
   ],
   "source": [
    "# support vector regression\n",
    "from sklearn.svm import SVR\n",
    "print(SVR())\n",
    "linear_svr=SVR(kernel='linear')\n",
    "linear_svr.fit(X_train,y_train)\n",
    "linear_svr_predict=linear_svr.predict(X_test)\n",
    "\n",
    "poly_svr=SVR(kernel='poly')\n",
    "poly_svr.fit(X_train,y_train)\n",
    "poly_svr_predict=poly_svr.predict(X_test)\n",
    "\n",
    "rbf_svr=SVR(kernel='rbf')\n",
    "rbf_svr.fit(X_train,y_train)\n",
    "rbf_svr_predict=rbf_svr.predict(X_test)\n"
   ]
  },
  {
   "cell_type": "code",
   "execution_count": 14,
   "metadata": {},
   "outputs": [
    {
     "name": "stdout",
     "output_type": "stream",
     "text": [
      "The R_squared value of linear SVR is  0.7530455012527989\n",
      "The mean squared error of linear SVR is  20.71772073711995\n",
      "The mean absolute error of linear SVR is  3.134423375671337\n"
     ]
    }
   ],
   "source": [
    "print(\"The R_squared value of linear SVR is \", linear_svr.score(X_test,y_test))\n",
    "print(\"The mean squared error of linear SVR is \", mean_squared_error(y_test,linear_svr_predict))\n",
    "print(\"The mean absolute error of linear SVR is \", mean_absolute_error(y_test,linear_svr_predict))\n"
   ]
  },
  {
   "cell_type": "code",
   "execution_count": 15,
   "metadata": {},
   "outputs": [
    {
     "name": "stdout",
     "output_type": "stream",
     "text": [
      "The R_squared value of linear poly SVR is  0.6701512757788615\n",
      "The mean squared error value of poly SVR is  27.671954909006455\n",
      "The mean absolute error value of poly SVR is  3.4574683742306456\n"
     ]
    }
   ],
   "source": [
    "print(\"The R_squared value of linear poly SVR is \", poly_svr.score(X_test,y_test))\n",
    "print(\"The mean squared error value of poly SVR is \", mean_squared_error(y_test,poly_svr_predict))\n",
    "print(\"The mean absolute error value of poly SVR is \", mean_absolute_error(y_test,poly_svr_predict))\n",
    "\n",
    "\n"
   ]
  },
  {
   "cell_type": "code",
   "execution_count": 16,
   "metadata": {},
   "outputs": [
    {
     "name": "stdout",
     "output_type": "stream",
     "text": [
      "The R-Squard value of rbf SVR is  0.6664050376816073\n",
      "The mean squared error value of rbf SVR is  27.986237560699\n",
      "The mean absolute error value of rbf SVR is  3.1856728112877963\n"
     ]
    }
   ],
   "source": [
    "print(\"The R-Squard value of rbf SVR is \",rbf_svr.score(X_test,y_test))\n",
    "print(\"The mean squared error value of rbf SVR is \",mean_squared_error(y_test,rbf_svr_predict))\n",
    "print(\"The mean absolute error value of rbf SVR is \", mean_absolute_error(y_test,rbf_svr_predict))"
   ]
  },
  {
   "cell_type": "markdown",
   "metadata": {},
   "source": [
    "K Neighbors regression"
   ]
  },
  {
   "cell_type": "code",
   "execution_count": 5,
   "metadata": {},
   "outputs": [
    {
     "name": "stdout",
     "output_type": "stream",
     "text": [
      "KNeighborsRegressor(algorithm='auto', leaf_size=30, metric='minkowski',\n",
      "          metric_params=None, n_jobs=1, n_neighbors=5, p=2,\n",
      "          weights='uniform')\n",
      "The score of uniform KNeighborsRegressor is   0.5661844312151156\n",
      "The score of distance weighted KNeighborsRegressor is  0.6236259122199657\n"
     ]
    }
   ],
   "source": [
    "from sklearn.neighbors import KNeighborsRegressor\n",
    "print(KNeighborsRegressor())\n",
    "uni_knr=KNeighborsRegressor(weights='uniform')\n",
    "uni_knr.fit(X_train,y_train)\n",
    "uni_knr_predict=uni_knr.predict(X_test)\n",
    "print(\"The score of uniform KNeighborsRegressor is  \", uni_knr.score(X_test,y_test))\n",
    "\n",
    "# weighted by distance\n",
    "dis_knr=KNeighborsRegressor(weights='distance')\n",
    "dis_knr.fit(X_train,y_train)\n",
    "dis_knr_predict=dis_knr.predict(X_test)\n",
    "print(\"The score of distance weighted KNeighborsRegressor is \", dis_knr.score(X_test,y_test))"
   ]
  },
  {
   "cell_type": "code",
   "execution_count": 12,
   "metadata": {},
   "outputs": [
    {
     "name": "stdout",
     "output_type": "stream",
     "text": [
      "The R-Squared value of uniform weighted KNeighborsRegressor is  0.5661844312151156\n",
      "The mean squared error value of uniform weighted KNeighborsRegressor is  36.394031496062986\n",
      "The mean absolute error value of uniform weighted KNeighborsRegressor is  4.180944881889763\n"
     ]
    }
   ],
   "source": [
    "print(\"The R-Squared value of uniform weighted KNeighborsRegressor is \", r2_score(y_test,uni_knr_predict))\n",
    "print(\"The mean squared error value of uniform weighted KNeighborsRegressor is \",mean_squared_error(y_test,uni_knr_predict))\n",
    "print(\"The mean absolute error value of uniform weighted KNeighborsRegressor is \", mean_absolute_error(y_test,uni_knr_predict))\n"
   ]
  },
  {
   "cell_type": "code",
   "execution_count": 13,
   "metadata": {},
   "outputs": [
    {
     "name": "stdout",
     "output_type": "stream",
     "text": [
      "The R-Squared value of distance weighted KNeighborsRegressor is  0.6236259122199657\n",
      "The mean squared error value of distance weighted KNeighborsRegressor is  31.57510101201749\n",
      "The mean absolute error value of distance weighted KNeighborsRegressor is  3.9026981881823057\n"
     ]
    }
   ],
   "source": [
    "print(\"The R-Squared value of distance weighted KNeighborsRegressor is \", r2_score(y_test,dis_knr_predict))\n",
    "print(\"The mean squared error value of distance weighted KNeighborsRegressor is \",mean_squared_error(y_test,dis_knr_predict))\n",
    "print(\"The mean absolute error value of distance weighted KNeighborsRegressor is \",mean_absolute_error(y_test,dis_knr_predict))"
   ]
  },
  {
   "cell_type": "markdown",
   "metadata": {},
   "source": [
    "Regression Tree"
   ]
  },
  {
   "cell_type": "code",
   "execution_count": 14,
   "metadata": {},
   "outputs": [
    {
     "name": "stdout",
     "output_type": "stream",
     "text": [
      "DecisionTreeRegressor(criterion='mse', max_depth=None, max_features=None,\n",
      "           max_leaf_nodes=None, min_impurity_decrease=0.0,\n",
      "           min_impurity_split=None, min_samples_leaf=1,\n",
      "           min_samples_split=2, min_weight_fraction_leaf=0.0,\n",
      "           presort=False, random_state=None, splitter='best')\n",
      "The score of DecisionTreeRegressor is  0.5769839191850488\n"
     ]
    }
   ],
   "source": [
    "from sklearn.tree import DecisionTreeRegressor\n",
    "dtr=DecisionTreeRegressor()\n",
    "print(dtr)\n",
    "dtr.fit(X_train,y_train)\n",
    "dtr_predict=dtr.predict(X_test)\n",
    "print(\"The score of DecisionTreeRegressor is \", dtr.score(X_test,y_test))"
   ]
  },
  {
   "cell_type": "code",
   "execution_count": 16,
   "metadata": {},
   "outputs": [
    {
     "name": "stdout",
     "output_type": "stream",
     "text": [
      "The R-squared value of DecisionTreeRegressor is:  0.5769839191850488\n",
      "The mean squared error value of DecisionTreeRegressor is:  35.488031496062995\n",
      "The mean absolute error value of DecisionTreeRegressor is:  3.2377952755905515\n"
     ]
    }
   ],
   "source": [
    "print(\"The R-squared value of DecisionTreeRegressor is: \", r2_score(y_test,dtr_predict))\n",
    "print(\"The mean squared error value of DecisionTreeRegressor is: \", mean_squared_error(y_test,dtr_predict))\n",
    "print(\"The mean absolute error value of DecisionTreeRegressor is: \", mean_absolute_error(y_test,dtr_predict))"
   ]
  },
  {
   "cell_type": "markdown",
   "metadata": {},
   "source": [
    "Ensemble model for Regression(ExtraTreesRegressor 与 RandomForestRegressor 的区别是它不会任意选取特征；而是先随机搜集一部分特征，然后利用信息熵和基尼不纯度等指标挑选最佳的节点特征 "
   ]
  },
  {
   "cell_type": "code",
   "execution_count": 17,
   "metadata": {},
   "outputs": [
    {
     "name": "stdout",
     "output_type": "stream",
     "text": [
      "RandomForestRegressor(bootstrap=True, criterion='mse', max_depth=None,\n",
      "           max_features='auto', max_leaf_nodes=None,\n",
      "           min_impurity_decrease=0.0, min_impurity_split=None,\n",
      "           min_samples_leaf=1, min_samples_split=2,\n",
      "           min_weight_fraction_leaf=0.0, n_estimators=10, n_jobs=1,\n",
      "           oob_score=False, random_state=None, verbose=0, warm_start=False)\n",
      "ExtraTreesRegressor(bootstrap=False, criterion='mse', max_depth=None,\n",
      "          max_features='auto', max_leaf_nodes=None,\n",
      "          min_impurity_decrease=0.0, min_impurity_split=None,\n",
      "          min_samples_leaf=1, min_samples_split=2,\n",
      "          min_weight_fraction_leaf=0.0, n_estimators=10, n_jobs=1,\n",
      "          oob_score=False, random_state=None, verbose=0, warm_start=False)\n",
      "GradientBoostingRegressor(alpha=0.9, criterion='friedman_mse', init=None,\n",
      "             learning_rate=0.1, loss='ls', max_depth=3, max_features=None,\n",
      "             max_leaf_nodes=None, min_impurity_decrease=0.0,\n",
      "             min_impurity_split=None, min_samples_leaf=1,\n",
      "             min_samples_split=2, min_weight_fraction_leaf=0.0,\n",
      "             n_estimators=100, presort='auto', random_state=None,\n",
      "             subsample=1.0, verbose=0, warm_start=False)\n"
     ]
    }
   ],
   "source": [
    "from sklearn.ensemble import RandomForestRegressor,ExtraTreesRegressor,GradientBoostingRegressor\n",
    "rfr=RandomForestRegressor()\n",
    "print(rfr)\n",
    "rfr.fit(X_train,y_train)\n",
    "rfr_predict=rfr.predict(X_test)\n",
    "\n",
    "etr=ExtraTreesRegressor()\n",
    "print(etr)\n",
    "etr.fit(X_train,y_train)\n",
    "etr_predict=etr.predict(X_test)\n",
    "\n",
    "gbr=GradientBoostingRegressor()\n",
    "print(gbr)\n",
    "gbr.fit(X_train,y_train)\n",
    "gbr_predict=gbr.predict(X_test)\n"
   ]
  },
  {
   "cell_type": "code",
   "execution_count": 19,
   "metadata": {},
   "outputs": [
    {
     "name": "stdout",
     "output_type": "stream",
     "text": [
      "The R-Squared value of RandomForestRegressor is:  0.8451737660948344\n",
      "The mean squared error value of RandomForestRegressor is:  12.988816535433068\n",
      "The mean absolute error value of RandomForestRegressor is:  2.2377165354330706\n"
     ]
    }
   ],
   "source": [
    "print(\"The R-Squared value of RandomForestRegressor is: \",rfr.score(X_test,y_test))\n",
    "print(\"The mean squared error value of RandomForestRegressor is: \", mean_squared_error(y_test,rfr_predict))\n",
    "print(\"The mean absolute error value of RandomForestRegressor is: \", mean_absolute_error(y_test,rfr_predict))\n"
   ]
  },
  {
   "cell_type": "code",
   "execution_count": 20,
   "metadata": {},
   "outputs": [
    {
     "name": "stdout",
     "output_type": "stream",
     "text": [
      "The R-Squared value of ExtraTreesRegressor is:  0.8368624534224185\n",
      "The mean squared error value of ExtraTreesRegressor is:  13.686076377952755\n",
      "The mean absolute error value of ExtraTreesRegressor is:  2.4340944881889754\n"
     ]
    }
   ],
   "source": [
    "print(\"The R-Squared value of ExtraTreesRegressor is: \", etr.score(X_test,y_test))\n",
    "print(\"The mean squared error value of ExtraTreesRegressor is: \", mean_squared_error(y_test,etr_predict))\n",
    "print(\"The mean absolute error value of ExtraTreesRegressor is: \", mean_absolute_error(y_test,etr_predict))"
   ]
  },
  {
   "cell_type": "code",
   "execution_count": 21,
   "metadata": {},
   "outputs": [
    {
     "name": "stdout",
     "output_type": "stream",
     "text": [
      "The R-squared value of GradientBoostingRegressor is:  0.8606541824188466\n",
      "The mean squared error value of GradientBoostingRegressor is:  11.690120039024858\n",
      "The mean absolute error value of GradientBoostingRegressor is:  2.2015968598699227\n"
     ]
    }
   ],
   "source": [
    "print(\"The R-squared value of GradientBoostingRegressor is: \", gbr.score(X_test,y_test))\n",
    "print(\"The mean squared error value of GradientBoostingRegressor is: \", mean_squared_error(y_test,gbr_predict))\n",
    "print(\"The mean absolute error value of GradientBoostingRegressor is: \", mean_absolute_error(y_test,gbr_predict))"
   ]
  },
  {
   "cell_type": "code",
   "execution_count": null,
   "metadata": {},
   "outputs": [],
   "source": []
  }
 ],
 "metadata": {
  "kernelspec": {
   "display_name": "Python 3",
   "language": "python",
   "name": "python3"
  },
  "language_info": {
   "codemirror_mode": {
    "name": "ipython",
    "version": 3
   },
   "file_extension": ".py",
   "mimetype": "text/x-python",
   "name": "python",
   "nbconvert_exporter": "python",
   "pygments_lexer": "ipython3",
   "version": "3.6.5"
  }
 },
 "nbformat": 4,
 "nbformat_minor": 2
}
